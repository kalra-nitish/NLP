{
  "nbformat": 4,
  "nbformat_minor": 0,
  "metadata": {
    "colab": {
      "provenance": [],
      "authorship_tag": "ABX9TyN57Kj0JWs7hD/1JFQveMMN",
      "include_colab_link": true
    },
    "kernelspec": {
      "name": "python3",
      "display_name": "Python 3"
    },
    "language_info": {
      "name": "python"
    }
  },
  "cells": [
    {
      "cell_type": "markdown",
      "metadata": {
        "id": "view-in-github",
        "colab_type": "text"
      },
      "source": [
        "<a href=\"https://colab.research.google.com/github/kalra-nitish/NLP/blob/main/LatentDirichletAllocation.ipynb\" target=\"_parent\"><img src=\"https://colab.research.google.com/assets/colab-badge.svg\" alt=\"Open In Colab\"/></a>"
      ]
    },
    {
      "cell_type": "code",
      "execution_count": 10,
      "metadata": {
        "colab": {
          "base_uri": "https://localhost:8080/"
        },
        "id": "nxrHX2kHTokN",
        "outputId": "99fe882d-d4cf-4353-e5b7-9d485331ef5f"
      },
      "outputs": [
        {
          "output_type": "stream",
          "name": "stdout",
          "text": [
            "--2024-07-16 20:58:20--  https://lazyprogrammer.me/course_files/nlp/bbc_text_cls.csv\n",
            "Resolving lazyprogrammer.me (lazyprogrammer.me)... 104.21.23.210, 172.67.213.166, 2606:4700:3030::ac43:d5a6, ...\n",
            "Connecting to lazyprogrammer.me (lazyprogrammer.me)|104.21.23.210|:443... connected.\n",
            "HTTP request sent, awaiting response... 200 OK\n",
            "Length: 5085081 (4.8M) [text/csv]\n",
            "Saving to: ‘bbc_text_cls.csv’\n",
            "\n",
            "bbc_text_cls.csv    100%[===================>]   4.85M  --.-KB/s    in 0.08s   \n",
            "\n",
            "2024-07-16 20:58:21 (57.4 MB/s) - ‘bbc_text_cls.csv’ saved [5085081/5085081]\n",
            "\n"
          ]
        }
      ],
      "source": [
        "!wget -nc https://lazyprogrammer.me/course_files/nlp/bbc_text_cls.csv"
      ]
    },
    {
      "cell_type": "code",
      "source": [
        "import pandas as pd\n",
        "import numpy as np\n",
        "import matplotlib.pyplot as plt\n",
        "import nltk\n",
        "import textwrap\n",
        "from nltk.corpus import stopwords\n",
        "from sklearn.feature_extraction.text import CountVectorizer\n",
        "from sklearn.decomposition import LatentDirichletAllocation"
      ],
      "metadata": {
        "id": "blQfdVxvT2_l"
      },
      "execution_count": 2,
      "outputs": []
    },
    {
      "cell_type": "code",
      "source": [
        "nltk.download('stopwords')"
      ],
      "metadata": {
        "colab": {
          "base_uri": "https://localhost:8080/"
        },
        "id": "uEao5eokUif8",
        "outputId": "27ffa0d5-15cc-4103-b2fe-2aaaebaab03f"
      },
      "execution_count": 3,
      "outputs": [
        {
          "output_type": "stream",
          "name": "stderr",
          "text": [
            "[nltk_data] Downloading package stopwords to /root/nltk_data...\n",
            "[nltk_data]   Unzipping corpora/stopwords.zip.\n"
          ]
        },
        {
          "output_type": "execute_result",
          "data": {
            "text/plain": [
              "True"
            ]
          },
          "metadata": {},
          "execution_count": 3
        }
      ]
    },
    {
      "cell_type": "code",
      "source": [
        "custom_stops = {'said', 'would', 'could', 'told', 'also', 'one', 'two', 'mr', 'new', 'year'}"
      ],
      "metadata": {
        "id": "qGQnY1LeXWnC"
      },
      "execution_count": 27,
      "outputs": []
    },
    {
      "cell_type": "code",
      "source": [
        "stops = set(stopwords.words('english')).union(custom_stops)"
      ],
      "metadata": {
        "id": "ZdqQDcefUmkT"
      },
      "execution_count": 28,
      "outputs": []
    },
    {
      "cell_type": "code",
      "source": [
        "stops_list = list(stops)"
      ],
      "metadata": {
        "collapsed": true,
        "id": "er7kBMjMUvp7"
      },
      "execution_count": 30,
      "outputs": []
    },
    {
      "cell_type": "code",
      "source": [
        "df = pd.read_csv('bbc_text_cls.csv')"
      ],
      "metadata": {
        "id": "XIYa6QlIVd9n"
      },
      "execution_count": 31,
      "outputs": []
    },
    {
      "cell_type": "code",
      "source": [
        "df.head()"
      ],
      "metadata": {
        "colab": {
          "base_uri": "https://localhost:8080/",
          "height": 206
        },
        "id": "HhpMBLiAVnSQ",
        "outputId": "50beafa4-724e-41df-823f-fc75c267b82f"
      },
      "execution_count": 32,
      "outputs": [
        {
          "output_type": "execute_result",
          "data": {
            "text/plain": [
              "                                                text    labels\n",
              "0  Ad sales boost Time Warner profit\\n\\nQuarterly...  business\n",
              "1  Dollar gains on Greenspan speech\\n\\nThe dollar...  business\n",
              "2  Yukos unit buyer faces loan claim\\n\\nThe owner...  business\n",
              "3  High fuel prices hit BA's profits\\n\\nBritish A...  business\n",
              "4  Pernod takeover talk lifts Domecq\\n\\nShares in...  business"
            ],
            "text/html": [
              "\n",
              "  <div id=\"df-421ef229-2160-4bb1-805a-75a6d537559f\" class=\"colab-df-container\">\n",
              "    <div>\n",
              "<style scoped>\n",
              "    .dataframe tbody tr th:only-of-type {\n",
              "        vertical-align: middle;\n",
              "    }\n",
              "\n",
              "    .dataframe tbody tr th {\n",
              "        vertical-align: top;\n",
              "    }\n",
              "\n",
              "    .dataframe thead th {\n",
              "        text-align: right;\n",
              "    }\n",
              "</style>\n",
              "<table border=\"1\" class=\"dataframe\">\n",
              "  <thead>\n",
              "    <tr style=\"text-align: right;\">\n",
              "      <th></th>\n",
              "      <th>text</th>\n",
              "      <th>labels</th>\n",
              "    </tr>\n",
              "  </thead>\n",
              "  <tbody>\n",
              "    <tr>\n",
              "      <th>0</th>\n",
              "      <td>Ad sales boost Time Warner profit\\n\\nQuarterly...</td>\n",
              "      <td>business</td>\n",
              "    </tr>\n",
              "    <tr>\n",
              "      <th>1</th>\n",
              "      <td>Dollar gains on Greenspan speech\\n\\nThe dollar...</td>\n",
              "      <td>business</td>\n",
              "    </tr>\n",
              "    <tr>\n",
              "      <th>2</th>\n",
              "      <td>Yukos unit buyer faces loan claim\\n\\nThe owner...</td>\n",
              "      <td>business</td>\n",
              "    </tr>\n",
              "    <tr>\n",
              "      <th>3</th>\n",
              "      <td>High fuel prices hit BA's profits\\n\\nBritish A...</td>\n",
              "      <td>business</td>\n",
              "    </tr>\n",
              "    <tr>\n",
              "      <th>4</th>\n",
              "      <td>Pernod takeover talk lifts Domecq\\n\\nShares in...</td>\n",
              "      <td>business</td>\n",
              "    </tr>\n",
              "  </tbody>\n",
              "</table>\n",
              "</div>\n",
              "    <div class=\"colab-df-buttons\">\n",
              "\n",
              "  <div class=\"colab-df-container\">\n",
              "    <button class=\"colab-df-convert\" onclick=\"convertToInteractive('df-421ef229-2160-4bb1-805a-75a6d537559f')\"\n",
              "            title=\"Convert this dataframe to an interactive table.\"\n",
              "            style=\"display:none;\">\n",
              "\n",
              "  <svg xmlns=\"http://www.w3.org/2000/svg\" height=\"24px\" viewBox=\"0 -960 960 960\">\n",
              "    <path d=\"M120-120v-720h720v720H120Zm60-500h600v-160H180v160Zm220 220h160v-160H400v160Zm0 220h160v-160H400v160ZM180-400h160v-160H180v160Zm440 0h160v-160H620v160ZM180-180h160v-160H180v160Zm440 0h160v-160H620v160Z\"/>\n",
              "  </svg>\n",
              "    </button>\n",
              "\n",
              "  <style>\n",
              "    .colab-df-container {\n",
              "      display:flex;\n",
              "      gap: 12px;\n",
              "    }\n",
              "\n",
              "    .colab-df-convert {\n",
              "      background-color: #E8F0FE;\n",
              "      border: none;\n",
              "      border-radius: 50%;\n",
              "      cursor: pointer;\n",
              "      display: none;\n",
              "      fill: #1967D2;\n",
              "      height: 32px;\n",
              "      padding: 0 0 0 0;\n",
              "      width: 32px;\n",
              "    }\n",
              "\n",
              "    .colab-df-convert:hover {\n",
              "      background-color: #E2EBFA;\n",
              "      box-shadow: 0px 1px 2px rgba(60, 64, 67, 0.3), 0px 1px 3px 1px rgba(60, 64, 67, 0.15);\n",
              "      fill: #174EA6;\n",
              "    }\n",
              "\n",
              "    .colab-df-buttons div {\n",
              "      margin-bottom: 4px;\n",
              "    }\n",
              "\n",
              "    [theme=dark] .colab-df-convert {\n",
              "      background-color: #3B4455;\n",
              "      fill: #D2E3FC;\n",
              "    }\n",
              "\n",
              "    [theme=dark] .colab-df-convert:hover {\n",
              "      background-color: #434B5C;\n",
              "      box-shadow: 0px 1px 3px 1px rgba(0, 0, 0, 0.15);\n",
              "      filter: drop-shadow(0px 1px 2px rgba(0, 0, 0, 0.3));\n",
              "      fill: #FFFFFF;\n",
              "    }\n",
              "  </style>\n",
              "\n",
              "    <script>\n",
              "      const buttonEl =\n",
              "        document.querySelector('#df-421ef229-2160-4bb1-805a-75a6d537559f button.colab-df-convert');\n",
              "      buttonEl.style.display =\n",
              "        google.colab.kernel.accessAllowed ? 'block' : 'none';\n",
              "\n",
              "      async function convertToInteractive(key) {\n",
              "        const element = document.querySelector('#df-421ef229-2160-4bb1-805a-75a6d537559f');\n",
              "        const dataTable =\n",
              "          await google.colab.kernel.invokeFunction('convertToInteractive',\n",
              "                                                    [key], {});\n",
              "        if (!dataTable) return;\n",
              "\n",
              "        const docLinkHtml = 'Like what you see? Visit the ' +\n",
              "          '<a target=\"_blank\" href=https://colab.research.google.com/notebooks/data_table.ipynb>data table notebook</a>'\n",
              "          + ' to learn more about interactive tables.';\n",
              "        element.innerHTML = '';\n",
              "        dataTable['output_type'] = 'display_data';\n",
              "        await google.colab.output.renderOutput(dataTable, element);\n",
              "        const docLink = document.createElement('div');\n",
              "        docLink.innerHTML = docLinkHtml;\n",
              "        element.appendChild(docLink);\n",
              "      }\n",
              "    </script>\n",
              "  </div>\n",
              "\n",
              "\n",
              "<div id=\"df-5351b1d7-a809-4900-b724-4886e73b991c\">\n",
              "  <button class=\"colab-df-quickchart\" onclick=\"quickchart('df-5351b1d7-a809-4900-b724-4886e73b991c')\"\n",
              "            title=\"Suggest charts\"\n",
              "            style=\"display:none;\">\n",
              "\n",
              "<svg xmlns=\"http://www.w3.org/2000/svg\" height=\"24px\"viewBox=\"0 0 24 24\"\n",
              "     width=\"24px\">\n",
              "    <g>\n",
              "        <path d=\"M19 3H5c-1.1 0-2 .9-2 2v14c0 1.1.9 2 2 2h14c1.1 0 2-.9 2-2V5c0-1.1-.9-2-2-2zM9 17H7v-7h2v7zm4 0h-2V7h2v10zm4 0h-2v-4h2v4z\"/>\n",
              "    </g>\n",
              "</svg>\n",
              "  </button>\n",
              "\n",
              "<style>\n",
              "  .colab-df-quickchart {\n",
              "      --bg-color: #E8F0FE;\n",
              "      --fill-color: #1967D2;\n",
              "      --hover-bg-color: #E2EBFA;\n",
              "      --hover-fill-color: #174EA6;\n",
              "      --disabled-fill-color: #AAA;\n",
              "      --disabled-bg-color: #DDD;\n",
              "  }\n",
              "\n",
              "  [theme=dark] .colab-df-quickchart {\n",
              "      --bg-color: #3B4455;\n",
              "      --fill-color: #D2E3FC;\n",
              "      --hover-bg-color: #434B5C;\n",
              "      --hover-fill-color: #FFFFFF;\n",
              "      --disabled-bg-color: #3B4455;\n",
              "      --disabled-fill-color: #666;\n",
              "  }\n",
              "\n",
              "  .colab-df-quickchart {\n",
              "    background-color: var(--bg-color);\n",
              "    border: none;\n",
              "    border-radius: 50%;\n",
              "    cursor: pointer;\n",
              "    display: none;\n",
              "    fill: var(--fill-color);\n",
              "    height: 32px;\n",
              "    padding: 0;\n",
              "    width: 32px;\n",
              "  }\n",
              "\n",
              "  .colab-df-quickchart:hover {\n",
              "    background-color: var(--hover-bg-color);\n",
              "    box-shadow: 0 1px 2px rgba(60, 64, 67, 0.3), 0 1px 3px 1px rgba(60, 64, 67, 0.15);\n",
              "    fill: var(--button-hover-fill-color);\n",
              "  }\n",
              "\n",
              "  .colab-df-quickchart-complete:disabled,\n",
              "  .colab-df-quickchart-complete:disabled:hover {\n",
              "    background-color: var(--disabled-bg-color);\n",
              "    fill: var(--disabled-fill-color);\n",
              "    box-shadow: none;\n",
              "  }\n",
              "\n",
              "  .colab-df-spinner {\n",
              "    border: 2px solid var(--fill-color);\n",
              "    border-color: transparent;\n",
              "    border-bottom-color: var(--fill-color);\n",
              "    animation:\n",
              "      spin 1s steps(1) infinite;\n",
              "  }\n",
              "\n",
              "  @keyframes spin {\n",
              "    0% {\n",
              "      border-color: transparent;\n",
              "      border-bottom-color: var(--fill-color);\n",
              "      border-left-color: var(--fill-color);\n",
              "    }\n",
              "    20% {\n",
              "      border-color: transparent;\n",
              "      border-left-color: var(--fill-color);\n",
              "      border-top-color: var(--fill-color);\n",
              "    }\n",
              "    30% {\n",
              "      border-color: transparent;\n",
              "      border-left-color: var(--fill-color);\n",
              "      border-top-color: var(--fill-color);\n",
              "      border-right-color: var(--fill-color);\n",
              "    }\n",
              "    40% {\n",
              "      border-color: transparent;\n",
              "      border-right-color: var(--fill-color);\n",
              "      border-top-color: var(--fill-color);\n",
              "    }\n",
              "    60% {\n",
              "      border-color: transparent;\n",
              "      border-right-color: var(--fill-color);\n",
              "    }\n",
              "    80% {\n",
              "      border-color: transparent;\n",
              "      border-right-color: var(--fill-color);\n",
              "      border-bottom-color: var(--fill-color);\n",
              "    }\n",
              "    90% {\n",
              "      border-color: transparent;\n",
              "      border-bottom-color: var(--fill-color);\n",
              "    }\n",
              "  }\n",
              "</style>\n",
              "\n",
              "  <script>\n",
              "    async function quickchart(key) {\n",
              "      const quickchartButtonEl =\n",
              "        document.querySelector('#' + key + ' button');\n",
              "      quickchartButtonEl.disabled = true;  // To prevent multiple clicks.\n",
              "      quickchartButtonEl.classList.add('colab-df-spinner');\n",
              "      try {\n",
              "        const charts = await google.colab.kernel.invokeFunction(\n",
              "            'suggestCharts', [key], {});\n",
              "      } catch (error) {\n",
              "        console.error('Error during call to suggestCharts:', error);\n",
              "      }\n",
              "      quickchartButtonEl.classList.remove('colab-df-spinner');\n",
              "      quickchartButtonEl.classList.add('colab-df-quickchart-complete');\n",
              "    }\n",
              "    (() => {\n",
              "      let quickchartButtonEl =\n",
              "        document.querySelector('#df-5351b1d7-a809-4900-b724-4886e73b991c button');\n",
              "      quickchartButtonEl.style.display =\n",
              "        google.colab.kernel.accessAllowed ? 'block' : 'none';\n",
              "    })();\n",
              "  </script>\n",
              "</div>\n",
              "\n",
              "    </div>\n",
              "  </div>\n"
            ],
            "application/vnd.google.colaboratory.intrinsic+json": {
              "type": "dataframe",
              "variable_name": "df",
              "summary": "{\n  \"name\": \"df\",\n  \"rows\": 2225,\n  \"fields\": [\n    {\n      \"column\": \"text\",\n      \"properties\": {\n        \"dtype\": \"string\",\n        \"num_unique_values\": 2127,\n        \"samples\": [\n          \"EU 'too slow' on economic reforms\\n\\nMost EU countries have failed to put in place policies aimed at making Europe the world's most competitive economy by the end of the decade, a report says.\\n\\nThe study, undertaken by the European Commission, sought to assess how far the EU has moved towards meeting its economic targets. In 2000, EU leaders at a summit in Lisbon pledged the European economy would outstrip that of the US by 2010. Their economic targets became known as the Lisbon Agenda. But the Commission report says that, in most EU countries, the pace of economic reform has been too slow, and fulfilling the Lisbon ambitions will be difficult - if not impossible.\\n\\nOnly the UK, Finland, Belgium, Denmark, Ireland and the Netherlands have actually followed up policy recommendations. Among the biggest laggards, according to the report, are Greece and Italy. The Lisbon Agenda set out to increase the number of people employed in Europe by encouraging more older people and women to stay in the workforce. It also set out to raise the amount the private sector spends on research and development, while bringing about greater discipline over public spending and debt levels. Combined with high environmental standards and efforts to level the playing field for businesses throughout the EU, the plan was for Europe to become the world's most dynamic economy by 2010. Next week, the Commission will present revised proposals to meet the Lisbon goals. Many people expect the 2010 target to be quietly dropped.\",\n          \"BBC web search aids odd queries\\n\\nThe BBC's online search engine was used a record amount in 2004, helping with enquires both simple and strange.\\n\\nMore than 277 million enquiries were made, asking for informaton of a wide range of subjects. The most requested search terms of 2004 included games, EastEnders, CBBC, John Peel, Harry Potter and Olympics. But there were many strange enquiries, including: what is a dog?, how do you say basketball? and what is the biggest collection of naval fluff? The search engine works by matching key words typed in to different web pages but many people still type in natural language questions. Here are some of the strangest queries of 2004 - spelling and grammar errors left untouched - and their possible solutions:\\n\\n\\n - How to fold a serviette like an elf's boot? \\n \\n\\n\\n - How do I structure a French letter? \\n \\n\\n\\n - What is better one long vacation each year or several short vacations throughout the year? \\n \\n\\n\\n - What is so special about the Swiss? \\n \\n\\n\\n - What are the contemporary issue in nurses? \\n \\n\\n\\n - What is the number 4 in this number 40052308090? \\n \\n\\n\\n - What is up? \\n \\n\\n\\n - What is the name of James Martin's dog? \\n \\n\\nSearch engines are key to the way people use the internet. Companies such as Google have become of paramount importance as they dictate how people travel through websites while online.\",\n          \"Serena becomes world number two\\n\\nSerena Williams has moved up five places to second in the world rankings after her Australian Open win.\\n\\nWilliams won her first Grand Slam title since 2003 with victory over Lindsay Davenport, the world number one. Men's champion Marat Safin remains fourth in the ATP rankings while beaten finalist Lleyton Hewitt replaces Andy Roddick as world number two. Roger Federer retains top spot, but Safin has overtaken Hewitt to become the new leader of the Champions Race. Alicia Molik, who lost a three-set thriller against Davenport in the quarter-finals, is in the women's top 10 for the first time in her career. Her rise means Australia have a player in the top 10 of the men's and women's rankings for the first time in 21 years. And Britain's Elena Baltacha, who qualified and then reached the third round, has risen to 120 in the world - a leap of 65 places and her highest ranking yet.\"\n        ],\n        \"semantic_type\": \"\",\n        \"description\": \"\"\n      }\n    },\n    {\n      \"column\": \"labels\",\n      \"properties\": {\n        \"dtype\": \"category\",\n        \"num_unique_values\": 5,\n        \"samples\": [\n          \"entertainment\",\n          \"tech\",\n          \"politics\"\n        ],\n        \"semantic_type\": \"\",\n        \"description\": \"\"\n      }\n    }\n  ]\n}"
            }
          },
          "metadata": {},
          "execution_count": 32
        }
      ]
    },
    {
      "cell_type": "code",
      "source": [
        "vectorizer = CountVectorizer(stop_words=stops_list)"
      ],
      "metadata": {
        "id": "OdCvNJApVwQc"
      },
      "execution_count": 33,
      "outputs": []
    },
    {
      "cell_type": "code",
      "source": [
        "vectorizer"
      ],
      "metadata": {
        "colab": {
          "base_uri": "https://localhost:8080/",
          "height": 144
        },
        "id": "rBoe7GCJV3Gy",
        "outputId": "642a7117-43a2-4229-b335-056091e4415a"
      },
      "execution_count": 34,
      "outputs": [
        {
          "output_type": "execute_result",
          "data": {
            "text/plain": [
              "CountVectorizer(stop_words=['don', 'what', 'he', 'up', 'aren', 'during', 'own',\n",
              "                            'whom', 'hadn', \"wasn't\", 'or', 'ours', 're', 'if',\n",
              "                            'any', 'but', 'you', 'doesn', 'my', 'him', 'their',\n",
              "                            \"weren't\", 'after', 'ma', 'down', 'one', 'such',\n",
              "                            'she', 'that', 'were', ...])"
            ],
            "text/html": [
              "<style>#sk-container-id-3 {color: black;background-color: white;}#sk-container-id-3 pre{padding: 0;}#sk-container-id-3 div.sk-toggleable {background-color: white;}#sk-container-id-3 label.sk-toggleable__label {cursor: pointer;display: block;width: 100%;margin-bottom: 0;padding: 0.3em;box-sizing: border-box;text-align: center;}#sk-container-id-3 label.sk-toggleable__label-arrow:before {content: \"▸\";float: left;margin-right: 0.25em;color: #696969;}#sk-container-id-3 label.sk-toggleable__label-arrow:hover:before {color: black;}#sk-container-id-3 div.sk-estimator:hover label.sk-toggleable__label-arrow:before {color: black;}#sk-container-id-3 div.sk-toggleable__content {max-height: 0;max-width: 0;overflow: hidden;text-align: left;background-color: #f0f8ff;}#sk-container-id-3 div.sk-toggleable__content pre {margin: 0.2em;color: black;border-radius: 0.25em;background-color: #f0f8ff;}#sk-container-id-3 input.sk-toggleable__control:checked~div.sk-toggleable__content {max-height: 200px;max-width: 100%;overflow: auto;}#sk-container-id-3 input.sk-toggleable__control:checked~label.sk-toggleable__label-arrow:before {content: \"▾\";}#sk-container-id-3 div.sk-estimator input.sk-toggleable__control:checked~label.sk-toggleable__label {background-color: #d4ebff;}#sk-container-id-3 div.sk-label input.sk-toggleable__control:checked~label.sk-toggleable__label {background-color: #d4ebff;}#sk-container-id-3 input.sk-hidden--visually {border: 0;clip: rect(1px 1px 1px 1px);clip: rect(1px, 1px, 1px, 1px);height: 1px;margin: -1px;overflow: hidden;padding: 0;position: absolute;width: 1px;}#sk-container-id-3 div.sk-estimator {font-family: monospace;background-color: #f0f8ff;border: 1px dotted black;border-radius: 0.25em;box-sizing: border-box;margin-bottom: 0.5em;}#sk-container-id-3 div.sk-estimator:hover {background-color: #d4ebff;}#sk-container-id-3 div.sk-parallel-item::after {content: \"\";width: 100%;border-bottom: 1px solid gray;flex-grow: 1;}#sk-container-id-3 div.sk-label:hover label.sk-toggleable__label {background-color: #d4ebff;}#sk-container-id-3 div.sk-serial::before {content: \"\";position: absolute;border-left: 1px solid gray;box-sizing: border-box;top: 0;bottom: 0;left: 50%;z-index: 0;}#sk-container-id-3 div.sk-serial {display: flex;flex-direction: column;align-items: center;background-color: white;padding-right: 0.2em;padding-left: 0.2em;position: relative;}#sk-container-id-3 div.sk-item {position: relative;z-index: 1;}#sk-container-id-3 div.sk-parallel {display: flex;align-items: stretch;justify-content: center;background-color: white;position: relative;}#sk-container-id-3 div.sk-item::before, #sk-container-id-3 div.sk-parallel-item::before {content: \"\";position: absolute;border-left: 1px solid gray;box-sizing: border-box;top: 0;bottom: 0;left: 50%;z-index: -1;}#sk-container-id-3 div.sk-parallel-item {display: flex;flex-direction: column;z-index: 1;position: relative;background-color: white;}#sk-container-id-3 div.sk-parallel-item:first-child::after {align-self: flex-end;width: 50%;}#sk-container-id-3 div.sk-parallel-item:last-child::after {align-self: flex-start;width: 50%;}#sk-container-id-3 div.sk-parallel-item:only-child::after {width: 0;}#sk-container-id-3 div.sk-dashed-wrapped {border: 1px dashed gray;margin: 0 0.4em 0.5em 0.4em;box-sizing: border-box;padding-bottom: 0.4em;background-color: white;}#sk-container-id-3 div.sk-label label {font-family: monospace;font-weight: bold;display: inline-block;line-height: 1.2em;}#sk-container-id-3 div.sk-label-container {text-align: center;}#sk-container-id-3 div.sk-container {/* jupyter's `normalize.less` sets `[hidden] { display: none; }` but bootstrap.min.css set `[hidden] { display: none !important; }` so we also need the `!important` here to be able to override the default hidden behavior on the sphinx rendered scikit-learn.org. See: https://github.com/scikit-learn/scikit-learn/issues/21755 */display: inline-block !important;position: relative;}#sk-container-id-3 div.sk-text-repr-fallback {display: none;}</style><div id=\"sk-container-id-3\" class=\"sk-top-container\"><div class=\"sk-text-repr-fallback\"><pre>CountVectorizer(stop_words=[&#x27;don&#x27;, &#x27;what&#x27;, &#x27;he&#x27;, &#x27;up&#x27;, &#x27;aren&#x27;, &#x27;during&#x27;, &#x27;own&#x27;,\n",
              "                            &#x27;whom&#x27;, &#x27;hadn&#x27;, &quot;wasn&#x27;t&quot;, &#x27;or&#x27;, &#x27;ours&#x27;, &#x27;re&#x27;, &#x27;if&#x27;,\n",
              "                            &#x27;any&#x27;, &#x27;but&#x27;, &#x27;you&#x27;, &#x27;doesn&#x27;, &#x27;my&#x27;, &#x27;him&#x27;, &#x27;their&#x27;,\n",
              "                            &quot;weren&#x27;t&quot;, &#x27;after&#x27;, &#x27;ma&#x27;, &#x27;down&#x27;, &#x27;one&#x27;, &#x27;such&#x27;,\n",
              "                            &#x27;she&#x27;, &#x27;that&#x27;, &#x27;were&#x27;, ...])</pre><b>In a Jupyter environment, please rerun this cell to show the HTML representation or trust the notebook. <br />On GitHub, the HTML representation is unable to render, please try loading this page with nbviewer.org.</b></div><div class=\"sk-container\" hidden><div class=\"sk-item\"><div class=\"sk-estimator sk-toggleable\"><input class=\"sk-toggleable__control sk-hidden--visually\" id=\"sk-estimator-id-3\" type=\"checkbox\" checked><label for=\"sk-estimator-id-3\" class=\"sk-toggleable__label sk-toggleable__label-arrow\">CountVectorizer</label><div class=\"sk-toggleable__content\"><pre>CountVectorizer(stop_words=[&#x27;don&#x27;, &#x27;what&#x27;, &#x27;he&#x27;, &#x27;up&#x27;, &#x27;aren&#x27;, &#x27;during&#x27;, &#x27;own&#x27;,\n",
              "                            &#x27;whom&#x27;, &#x27;hadn&#x27;, &quot;wasn&#x27;t&quot;, &#x27;or&#x27;, &#x27;ours&#x27;, &#x27;re&#x27;, &#x27;if&#x27;,\n",
              "                            &#x27;any&#x27;, &#x27;but&#x27;, &#x27;you&#x27;, &#x27;doesn&#x27;, &#x27;my&#x27;, &#x27;him&#x27;, &#x27;their&#x27;,\n",
              "                            &quot;weren&#x27;t&quot;, &#x27;after&#x27;, &#x27;ma&#x27;, &#x27;down&#x27;, &#x27;one&#x27;, &#x27;such&#x27;,\n",
              "                            &#x27;she&#x27;, &#x27;that&#x27;, &#x27;were&#x27;, ...])</pre></div></div></div></div></div>"
            ]
          },
          "metadata": {},
          "execution_count": 34
        }
      ]
    },
    {
      "cell_type": "code",
      "source": [
        "X = vectorizer.fit_transform(df['text'])"
      ],
      "metadata": {
        "id": "cKnuPX2kV4gf"
      },
      "execution_count": 35,
      "outputs": []
    },
    {
      "cell_type": "code",
      "source": [
        "X"
      ],
      "metadata": {
        "colab": {
          "base_uri": "https://localhost:8080/"
        },
        "id": "VEDOTp5RWDZZ",
        "outputId": "4e6f1c06-6971-4c07-cb6d-3e0845c944d7"
      },
      "execution_count": 36,
      "outputs": [
        {
          "output_type": "execute_result",
          "data": {
            "text/plain": [
              "<2225x29270 sparse matrix of type '<class 'numpy.int64'>'\n",
              "\twith 340920 stored elements in Compressed Sparse Row format>"
            ]
          },
          "metadata": {},
          "execution_count": 36
        }
      ]
    },
    {
      "cell_type": "code",
      "source": [
        "lda = LatentDirichletAllocation(n_components=10, #default:10\n",
        "                               random_state=12345)"
      ],
      "metadata": {
        "id": "CjBe4MlVXxIb"
      },
      "execution_count": 37,
      "outputs": []
    },
    {
      "cell_type": "code",
      "source": [
        "lda.fit(X)"
      ],
      "metadata": {
        "colab": {
          "base_uri": "https://localhost:8080/",
          "height": 75
        },
        "id": "GlmrqR7fYUA-",
        "outputId": "18bc899d-8965-4378-ac9c-ccc11fdbd88e"
      },
      "execution_count": 38,
      "outputs": [
        {
          "output_type": "execute_result",
          "data": {
            "text/plain": [
              "LatentDirichletAllocation(random_state=12345)"
            ],
            "text/html": [
              "<style>#sk-container-id-4 {color: black;background-color: white;}#sk-container-id-4 pre{padding: 0;}#sk-container-id-4 div.sk-toggleable {background-color: white;}#sk-container-id-4 label.sk-toggleable__label {cursor: pointer;display: block;width: 100%;margin-bottom: 0;padding: 0.3em;box-sizing: border-box;text-align: center;}#sk-container-id-4 label.sk-toggleable__label-arrow:before {content: \"▸\";float: left;margin-right: 0.25em;color: #696969;}#sk-container-id-4 label.sk-toggleable__label-arrow:hover:before {color: black;}#sk-container-id-4 div.sk-estimator:hover label.sk-toggleable__label-arrow:before {color: black;}#sk-container-id-4 div.sk-toggleable__content {max-height: 0;max-width: 0;overflow: hidden;text-align: left;background-color: #f0f8ff;}#sk-container-id-4 div.sk-toggleable__content pre {margin: 0.2em;color: black;border-radius: 0.25em;background-color: #f0f8ff;}#sk-container-id-4 input.sk-toggleable__control:checked~div.sk-toggleable__content {max-height: 200px;max-width: 100%;overflow: auto;}#sk-container-id-4 input.sk-toggleable__control:checked~label.sk-toggleable__label-arrow:before {content: \"▾\";}#sk-container-id-4 div.sk-estimator input.sk-toggleable__control:checked~label.sk-toggleable__label {background-color: #d4ebff;}#sk-container-id-4 div.sk-label input.sk-toggleable__control:checked~label.sk-toggleable__label {background-color: #d4ebff;}#sk-container-id-4 input.sk-hidden--visually {border: 0;clip: rect(1px 1px 1px 1px);clip: rect(1px, 1px, 1px, 1px);height: 1px;margin: -1px;overflow: hidden;padding: 0;position: absolute;width: 1px;}#sk-container-id-4 div.sk-estimator {font-family: monospace;background-color: #f0f8ff;border: 1px dotted black;border-radius: 0.25em;box-sizing: border-box;margin-bottom: 0.5em;}#sk-container-id-4 div.sk-estimator:hover {background-color: #d4ebff;}#sk-container-id-4 div.sk-parallel-item::after {content: \"\";width: 100%;border-bottom: 1px solid gray;flex-grow: 1;}#sk-container-id-4 div.sk-label:hover label.sk-toggleable__label {background-color: #d4ebff;}#sk-container-id-4 div.sk-serial::before {content: \"\";position: absolute;border-left: 1px solid gray;box-sizing: border-box;top: 0;bottom: 0;left: 50%;z-index: 0;}#sk-container-id-4 div.sk-serial {display: flex;flex-direction: column;align-items: center;background-color: white;padding-right: 0.2em;padding-left: 0.2em;position: relative;}#sk-container-id-4 div.sk-item {position: relative;z-index: 1;}#sk-container-id-4 div.sk-parallel {display: flex;align-items: stretch;justify-content: center;background-color: white;position: relative;}#sk-container-id-4 div.sk-item::before, #sk-container-id-4 div.sk-parallel-item::before {content: \"\";position: absolute;border-left: 1px solid gray;box-sizing: border-box;top: 0;bottom: 0;left: 50%;z-index: -1;}#sk-container-id-4 div.sk-parallel-item {display: flex;flex-direction: column;z-index: 1;position: relative;background-color: white;}#sk-container-id-4 div.sk-parallel-item:first-child::after {align-self: flex-end;width: 50%;}#sk-container-id-4 div.sk-parallel-item:last-child::after {align-self: flex-start;width: 50%;}#sk-container-id-4 div.sk-parallel-item:only-child::after {width: 0;}#sk-container-id-4 div.sk-dashed-wrapped {border: 1px dashed gray;margin: 0 0.4em 0.5em 0.4em;box-sizing: border-box;padding-bottom: 0.4em;background-color: white;}#sk-container-id-4 div.sk-label label {font-family: monospace;font-weight: bold;display: inline-block;line-height: 1.2em;}#sk-container-id-4 div.sk-label-container {text-align: center;}#sk-container-id-4 div.sk-container {/* jupyter's `normalize.less` sets `[hidden] { display: none; }` but bootstrap.min.css set `[hidden] { display: none !important; }` so we also need the `!important` here to be able to override the default hidden behavior on the sphinx rendered scikit-learn.org. See: https://github.com/scikit-learn/scikit-learn/issues/21755 */display: inline-block !important;position: relative;}#sk-container-id-4 div.sk-text-repr-fallback {display: none;}</style><div id=\"sk-container-id-4\" class=\"sk-top-container\"><div class=\"sk-text-repr-fallback\"><pre>LatentDirichletAllocation(random_state=12345)</pre><b>In a Jupyter environment, please rerun this cell to show the HTML representation or trust the notebook. <br />On GitHub, the HTML representation is unable to render, please try loading this page with nbviewer.org.</b></div><div class=\"sk-container\" hidden><div class=\"sk-item\"><div class=\"sk-estimator sk-toggleable\"><input class=\"sk-toggleable__control sk-hidden--visually\" id=\"sk-estimator-id-4\" type=\"checkbox\" checked><label for=\"sk-estimator-id-4\" class=\"sk-toggleable__label sk-toggleable__label-arrow\">LatentDirichletAllocation</label><div class=\"sk-toggleable__content\"><pre>LatentDirichletAllocation(random_state=12345)</pre></div></div></div></div></div>"
            ]
          },
          "metadata": {},
          "execution_count": 38
        }
      ]
    },
    {
      "cell_type": "code",
      "source": [
        "def plot_top_words(model, feature_names, n_top_words=10):\n",
        "  fig, axes = plt.subplots(2, 5, figsize=(30, 15), sharex=True)\n",
        "  axes = axes.flatten()\n",
        "  for topic_idx, topic in enumerate(model.components_):\n",
        "    top_features_ind = topic.argsort()[: -n_top_words - 1 : -1]\n",
        "    top_features = [feature_names[i] for i in top_features_ind]\n",
        "    weights = topic[top_features_ind]\n",
        "\n",
        "    ax = axes[topic_idx]\n",
        "    ax.barh(top_features, weights, height=0.7)\n",
        "    ax.set_title(f\"Topic {topic_idx + 1}\", fontdict={\"fontsize\": 30})\n",
        "    ax.invert_yaxis()\n",
        "    ax.tick_params(axis=\"both\", which=\"major\", labelsize=20)\n",
        "    for i in \"top right left\".split():\n",
        "      ax.spines[i].set_visible(False)\n",
        "    fig.suptitle(\"LDA\", fontsize=40)\n",
        "\n",
        "    plt.subplots_adjust(top=0.90, bottom=0.05, wspace=0.90, hspace=0.3)\n",
        "    plt.show()\n"
      ],
      "metadata": {
        "id": "FQDQzHiXYWMe"
      },
      "execution_count": 47,
      "outputs": []
    },
    {
      "cell_type": "code",
      "source": [
        "feature_names = vectorizer.get_feature_names_out()\n",
        "plot_top_words(lda, feature_names);"
      ],
      "metadata": {
        "colab": {
          "base_uri": "https://localhost:8080/",
          "height": 653
        },
        "id": "NgrPom68Z-jW",
        "outputId": "974362ee-7925-443f-d73f-3f9214e7be12"
      },
      "execution_count": 48,
      "outputs": [
        {
          "output_type": "display_data",
          "data": {
            "text/plain": [
              "<Figure size 3000x1500 with 10 Axes>"
            ],
            "image/png": "[encoded data removed]"
          },
          "metadata": {}
        },
        {
          "output_type": "display_data",
          "data": {
            "text/plain": [
              "<Figure size 640x480 with 0 Axes>"
            ]
          },
          "metadata": {}
        },
        {
          "output_type": "display_data",
          "data": {
            "text/plain": [
              "<Figure size 640x480 with 0 Axes>"
            ]
          },
          "metadata": {}
        },
        {
          "output_type": "display_data",
          "data": {
            "text/plain": [
              "<Figure size 640x480 with 0 Axes>"
            ]
          },
          "metadata": {}
        },
        {
          "output_type": "display_data",
          "data": {
            "text/plain": [
              "<Figure size 640x480 with 0 Axes>"
            ]
          },
          "metadata": {}
        },
        {
          "output_type": "display_data",
          "data": {
            "text/plain": [
              "<Figure size 640x480 with 0 Axes>"
            ]
          },
          "metadata": {}
        },
        {
          "output_type": "display_data",
          "data": {
            "text/plain": [
              "<Figure size 640x480 with 0 Axes>"
            ]
          },
          "metadata": {}
        },
        {
          "output_type": "display_data",
          "data": {
            "text/plain": [
              "<Figure size 640x480 with 0 Axes>"
            ]
          },
          "metadata": {}
        },
        {
          "output_type": "display_data",
          "data": {
            "text/plain": [
              "<Figure size 640x480 with 0 Axes>"
            ]
          },
          "metadata": {}
        },
        {
          "output_type": "display_data",
          "data": {
            "text/plain": [
              "<Figure size 640x480 with 0 Axes>"
            ]
          },
          "metadata": {}
        }
      ]
    },
    {
      "cell_type": "code",
      "source": [
        "Z = lda.transform(X)"
      ],
      "metadata": {
        "id": "YModgUUqbCyN"
      },
      "execution_count": 49,
      "outputs": []
    },
    {
      "cell_type": "code",
      "source": [
        "np.random.seed(0)\n",
        "i = np.random.choice(len(df))\n",
        "z = Z[i]\n",
        "topics = np.arange(10) + 1\n",
        "fig, ax = plt.subplots()\n",
        "ax.barh(topics, z)\n",
        "ax.set_yticks(topics)\n",
        "ax.set_title('True label: %s' %df.iloc[i]['labels']);"
      ],
      "metadata": {
        "colab": {
          "base_uri": "https://localhost:8080/",
          "height": 452
        },
        "id": "HMlhjf4ScUBv",
        "outputId": "9d35acdb-4535-46e2-bec4-6bad9c91dbec"
      },
      "execution_count": 50,
      "outputs": [
        {
          "output_type": "display_data",
          "data": {
            "text/plain": [
              "<Figure size 640x480 with 1 Axes>"
            ],
            "image/png": "[encoded data removed]"
          },
          "metadata": {}
        }
      ]
    },
    {
      "cell_type": "code",
      "source": [
        "def wrap(x):\n",
        "  return textwrap.fill(x, replace_whitespace=False, fix_sentence_endings=True)\n",
        "\n",
        "print(wrap(df.iloc[i]['text']))"
      ],
      "metadata": {
        "colab": {
          "base_uri": "https://localhost:8080/"
        },
        "id": "Q6tXShCDdWBe",
        "outputId": "49f9295e-4a6c-4053-9d08-ec08630b7921"
      },
      "execution_count": 55,
      "outputs": [
        {
          "output_type": "stream",
          "name": "stdout",
          "text": [
            "Oscars steer clear of controversy\n",
            "\n",
            "The Oscars nominations list has\n",
            "left out some of the most controversial films of the past year in\n",
            "favour of safer, less contentious cinema.\n",
            "\n",
            "If best film nominees were\n",
            "drawn on the basis of column inches, two of the front-runners would\n",
            "have had to be Michael Moore's Bush-baiting documentary Fahrenheit\n",
            "9/11 and Mel Gibson's The Passion of the Christ.  Both films polarised\n",
            "opinion but had critics talking, and the public turning up to see them\n",
            "- Fahrenheit 9/11 breaking US box office records for a documentary,\n",
            "and The Passion of the Christ making more than US$370m (£196m) in the\n",
            "US alone.  But this year's Academy Awards have shied away from the big\n",
            "name controversies, with The Passion of the Christ - a film accused of\n",
            "being anti-Semitic - receiving nominations only in the 'minor'\n",
            "categories of cinematography, makeup and musical score.\n",
            "\n",
            "Fahrenheit\n",
            "9/11 has also been overlooked, despite winning the Palme d'Or at the\n",
            "Cannes International Film Festival in 2004.\n",
            "\n",
            "Moore's caustic\n",
            "documentary may have been affected by its distributors' decision to\n",
            "enter it in the best picture category, rather than best documentary,\n",
            "says Tim Dams, the news editor of trade magazine Screen International.\n",
            "But he also believes the strong political viewpoint of Moore's film\n",
            "does not sit well with the Academy.  \"If you look at past Oscar\n",
            "winners and nominees, the very conservative Oscar voters tend to go\n",
            "for very conservative, epic-style pictures.  Fahrenheit 9/11 didn't\n",
            "really fit in to that category.  \"They tend to go for films like\n",
            "Titanic, Gladiator, and the Lord of the Rings, films with scale that\n",
            "often aren't too contentious,\" he said.  While he said the Oscar\n",
            "voting panel were not \"snubbing\" Moore's film, he thought it was\n",
            "unlikely a documentary could ever seriously compete in a best film\n",
            "category.  \"I think it's more a misjudgement by the people putting it\n",
            "out rather than a deliberate snub,\" he said.\n",
            "\n",
            "The problem with Mel\n",
            "Gibson's film, he believed, was that the voting panel may have been\n",
            "cautious in nominating a film with dialogue in Aramaic, an ancient\n",
            "Middle Eastern language.\n",
            "\n",
            "\"Hollywood doesn't tend to like foreign-\n",
            "language films - no-one's ever tried doing a film in a dead language,\"\n",
            "he said.  But aside from these two films, some potentially contentious\n",
            "pictures have won nominations.  The German film The Downfall, a biopic\n",
            "tracing the final days of Nazi leader Adolf Hitler in his Berlin\n",
            "bunker, has been recognised in the best foreign film category.  The\n",
            "film has caused some controversy in showing Hitler as a fallible but\n",
            "human man, rather than a semi-mythical, historical monster.  But Mr\n",
            "Dams said: \"It's not an inflammatory film.  It has done very well in\n",
            "Germany, and it's a film that portrays Hitler as a human rather than\n",
            "some kind of devil or monster.\"  Another 'contentious' film, Mr Dams\n",
            "said, has gained a nomination in the best documentary section through\n",
            "the force of its charm.\n",
            "\n",
            "Independent film-maker Morgan Spurlock may\n",
            "have forced fast-food giant McDonalds to withdraw its 'super size'\n",
            "portions in the US after he went on a month-long diet eating nothing\n",
            "but McDonalds meals - and filmed his progress.\n",
            "\n",
            "The film has been a\n",
            "hit around the world.  Mr Dams said: \"It's a political film, but it's\n",
            "quite fun and punky and well-paced.  \"Morgan Spurlock is a really\n",
            "likeable guy.  It's a very accessible film, and it doesn't beat you\n",
            "over the head with its views.  \"While in Fahrenheit 9/11 there are\n",
            "moments of comedy, I think the way that Super Size Me is put together\n",
            "- the fact it's a very likeable film - means it's won through on\n",
            "charm.\"  Dam's pick at this year's Oscars?  The Aviator, Martin\n",
            "Scorsese's biopic of aviation pioneer and Hollywood player Howard\n",
            "Hughes.  Tinseltown, it seems, likes nothing more than a picture about\n",
            "one of its own.\n"
          ]
        }
      ]
    },
    {
      "cell_type": "code",
      "source": [
        "i = np.random.choice(len(df))\n",
        "z = Z[i]\n",
        "fig, ax = plt.subplots()\n",
        "ax.barh(topics, z)\n",
        "ax.set_yticks(topics)\n",
        "ax.set_title('True label: %s' % df.iloc[i]['labels'])"
      ],
      "metadata": {
        "colab": {
          "base_uri": "https://localhost:8080/",
          "height": 469
        },
        "id": "mqeCMX-XdhZD",
        "outputId": "b483c8f3-1860-4b7c-d9e3-c856638e9ec3"
      },
      "execution_count": 53,
      "outputs": [
        {
          "output_type": "execute_result",
          "data": {
            "text/plain": [
              "Text(0.5, 1.0, 'True label: entertainment')"
            ]
          },
          "metadata": {},
          "execution_count": 53
        },
        {
          "output_type": "display_data",
          "data": {
            "text/plain": [
              "<Figure size 640x480 with 1 Axes>"
            ],
            "image/png": "[encoded data removed]"
          },
          "metadata": {}
        }
      ]
    },
    {
      "cell_type": "code",
      "source": [
        "print(wrap(df.iloc[i]['text']))"
      ],
      "metadata": {
        "colab": {
          "base_uri": "https://localhost:8080/"
        },
        "id": "4eT6jxsud7Ni",
        "outputId": "ecc5a331-ba82-421c-fb6b-b0fe17b52f97"
      },
      "execution_count": 56,
      "outputs": [
        {
          "output_type": "stream",
          "name": "stdout",
          "text": [
            "Oscars steer clear of controversy\n",
            "\n",
            "The Oscars nominations list has\n",
            "left out some of the most controversial films of the past year in\n",
            "favour of safer, less contentious cinema.\n",
            "\n",
            "If best film nominees were\n",
            "drawn on the basis of column inches, two of the front-runners would\n",
            "have had to be Michael Moore's Bush-baiting documentary Fahrenheit\n",
            "9/11 and Mel Gibson's The Passion of the Christ.  Both films polarised\n",
            "opinion but had critics talking, and the public turning up to see them\n",
            "- Fahrenheit 9/11 breaking US box office records for a documentary,\n",
            "and The Passion of the Christ making more than US$370m (£196m) in the\n",
            "US alone.  But this year's Academy Awards have shied away from the big\n",
            "name controversies, with The Passion of the Christ - a film accused of\n",
            "being anti-Semitic - receiving nominations only in the 'minor'\n",
            "categories of cinematography, makeup and musical score.\n",
            "\n",
            "Fahrenheit\n",
            "9/11 has also been overlooked, despite winning the Palme d'Or at the\n",
            "Cannes International Film Festival in 2004.\n",
            "\n",
            "Moore's caustic\n",
            "documentary may have been affected by its distributors' decision to\n",
            "enter it in the best picture category, rather than best documentary,\n",
            "says Tim Dams, the news editor of trade magazine Screen International.\n",
            "But he also believes the strong political viewpoint of Moore's film\n",
            "does not sit well with the Academy.  \"If you look at past Oscar\n",
            "winners and nominees, the very conservative Oscar voters tend to go\n",
            "for very conservative, epic-style pictures.  Fahrenheit 9/11 didn't\n",
            "really fit in to that category.  \"They tend to go for films like\n",
            "Titanic, Gladiator, and the Lord of the Rings, films with scale that\n",
            "often aren't too contentious,\" he said.  While he said the Oscar\n",
            "voting panel were not \"snubbing\" Moore's film, he thought it was\n",
            "unlikely a documentary could ever seriously compete in a best film\n",
            "category.  \"I think it's more a misjudgement by the people putting it\n",
            "out rather than a deliberate snub,\" he said.\n",
            "\n",
            "The problem with Mel\n",
            "Gibson's film, he believed, was that the voting panel may have been\n",
            "cautious in nominating a film with dialogue in Aramaic, an ancient\n",
            "Middle Eastern language.\n",
            "\n",
            "\"Hollywood doesn't tend to like foreign-\n",
            "language films - no-one's ever tried doing a film in a dead language,\"\n",
            "he said.  But aside from these two films, some potentially contentious\n",
            "pictures have won nominations.  The German film The Downfall, a biopic\n",
            "tracing the final days of Nazi leader Adolf Hitler in his Berlin\n",
            "bunker, has been recognised in the best foreign film category.  The\n",
            "film has caused some controversy in showing Hitler as a fallible but\n",
            "human man, rather than a semi-mythical, historical monster.  But Mr\n",
            "Dams said: \"It's not an inflammatory film.  It has done very well in\n",
            "Germany, and it's a film that portrays Hitler as a human rather than\n",
            "some kind of devil or monster.\"  Another 'contentious' film, Mr Dams\n",
            "said, has gained a nomination in the best documentary section through\n",
            "the force of its charm.\n",
            "\n",
            "Independent film-maker Morgan Spurlock may\n",
            "have forced fast-food giant McDonalds to withdraw its 'super size'\n",
            "portions in the US after he went on a month-long diet eating nothing\n",
            "but McDonalds meals - and filmed his progress.\n",
            "\n",
            "The film has been a\n",
            "hit around the world.  Mr Dams said: \"It's a political film, but it's\n",
            "quite fun and punky and well-paced.  \"Morgan Spurlock is a really\n",
            "likeable guy.  It's a very accessible film, and it doesn't beat you\n",
            "over the head with its views.  \"While in Fahrenheit 9/11 there are\n",
            "moments of comedy, I think the way that Super Size Me is put together\n",
            "- the fact it's a very likeable film - means it's won through on\n",
            "charm.\"  Dam's pick at this year's Oscars?  The Aviator, Martin\n",
            "Scorsese's biopic of aviation pioneer and Hollywood player Howard\n",
            "Hughes.  Tinseltown, it seems, likes nothing more than a picture about\n",
            "one of its own.\n"
          ]
        }
      ]
    },
    {
      "cell_type": "code",
      "source": [],
      "metadata": {
        "id": "9rq3kw_9fAkA"
      },
      "execution_count": null,
      "outputs": []
    }
  ]
}